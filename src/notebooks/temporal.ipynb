{
 "cells": [
  {
   "cell_type": "code",
   "execution_count": 2,
   "metadata": {},
   "outputs": [],
   "source": [
    "import torch\n",
    "import torch.nn as nn\n",
    "\n",
    "from src.models.components.temporal_model import TemporalModelIdentity, TemporalModel\n"
   ]
  },
  {
   "cell_type": "markdown",
   "metadata": {},
   "source": [
    "### Revisit 3D CNNs"
   ]
  },
  {
   "cell_type": "code",
   "execution_count": 5,
   "metadata": {},
   "outputs": [],
   "source": [
    "class simple3D(nn.Module):\n",
    "    def __init__(self, in_channels, out_channels):\n",
    "        super(simple3D, self).__init__()\n",
    "        \n",
    "        # Main 3D convolutions\n",
    "        self.conv1 = nn.Conv3d(in_channels, out_channels, kernel_size=(2, 3, 3), stride=1)\n",
    "\n",
    "        \n",
    "    def forward(self, x):\n",
    "        # Feature compression\n",
    "        # compressed_features = self.feature_compression(x)\n",
    "        \n",
    "        # Main convolution\n",
    "        out1 = self.conv1(x)\n",
    "        \n",
    "        return out1"
   ]
  },
  {
   "cell_type": "code",
   "execution_count": 6,
   "metadata": {},
   "outputs": [
    {
     "name": "stdout",
     "output_type": "stream",
     "text": [
      "Output shape after temporal block: torch.Size([1, 16, 9, 30, 30])\n"
     ]
    }
   ],
   "source": [
    "# Example input shape (batch_size=1, channels=3, depth/time=10, height=32, width=32)\n",
    "input_tensor = torch.randn(1, 3, 10, 32, 32)\n",
    "\n",
    "# Create a temporal block with specified input and output channels\n",
    "temporal_block = simple3D(in_channels=3, out_channels=16)\n",
    "\n",
    "# Perform a forward pass\n",
    "output = temporal_block(input_tensor)\n",
    "\n",
    "print(\"Output shape after temporal block:\", output.shape)"
   ]
  },
  {
   "cell_type": "code",
   "execution_count": null,
   "metadata": {},
   "outputs": [],
   "source": []
  }
 ],
 "metadata": {
  "kernelspec": {
   "display_name": "pl-hydra",
   "language": "python",
   "name": "python3"
  },
  "language_info": {
   "codemirror_mode": {
    "name": "ipython",
    "version": 3
   },
   "file_extension": ".py",
   "mimetype": "text/x-python",
   "name": "python",
   "nbconvert_exporter": "python",
   "pygments_lexer": "ipython3",
   "version": "3.9.19"
  }
 },
 "nbformat": 4,
 "nbformat_minor": 2
}
