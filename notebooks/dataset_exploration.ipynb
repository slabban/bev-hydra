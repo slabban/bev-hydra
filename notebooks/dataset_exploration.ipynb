{
 "cells": [
  {
   "cell_type": "code",
   "execution_count": 2,
   "metadata": {},
   "outputs": [],
   "source": [
    "from torch.utils.data import DataLoader, Dataset\n",
    "\n",
    "from lightning import LightningDataModule\n",
    "\n",
    "from src.data.components.data import FuturePredictionDataset\n",
    "from omegaconf import DictConfig"
   ]
  },
  {
   "cell_type": "code",
   "execution_count": 3,
   "metadata": {},
   "outputs": [],
   "source": [
    "from omegaconf import OmegaConf\n",
    "\n",
    "common = OmegaConf.create({\n",
    "    'semantic_segmentation': {\n",
    "        'weights': [1.0, 2.0],\n",
    "        'use_top_k': True,\n",
    "        'top_k_ratio': 0.25,\n",
    "    },\n",
    "    'receptive_field': 3,\n",
    "    'future_discount': 0.95,\n",
    "    'ignore_index': 255,\n",
    "    'lift': {\n",
    "        'x_bound': [-50.0, 50.0, 0.5],\n",
    "        'y_bound': [-50.0, 50.0, 0.5],\n",
    "        'z_bound': [-10.0, 10.0, 20.0],\n",
    "        'd_bound': [2.0, 50.0, 1.0],\n",
    "    },\n",
    "    'image': {\n",
    "        'final_dim': [224, 480],\n",
    "        'resize_scale': 0.3,\n",
    "        'top_crop': 46,\n",
    "        'original_height': 900,\n",
    "        'original_width': 1600,\n",
    "        'names': ['CAM_FRONT_LEFT', 'CAM_FRONT', 'CAM_FRONT_RIGHT', 'CAM_BACK_LEFT', 'CAM_BACK', 'CAM_BACK_RIGHT'],\n",
    "    },\n",
    "})\n",
    "\n"
   ]
  },
  {
   "cell_type": "code",
   "execution_count": 4,
   "metadata": {},
   "outputs": [],
   "source": [
    "import os\n",
    "\n",
    "data_root = '/home/slabban/machine_learning/projects/bev-hydra/data/nuscenes'\n",
    "version = 'trainval'\n",
    "batch_size = 1\n",
    "filter_invisible_vehicles = True\n",
    "num_workers = 4\n",
    "pin_memory = True\n"
   ]
  },
  {
   "cell_type": "markdown",
   "metadata": {},
   "source": [
    "Create Dataset"
   ]
  },
  {
   "cell_type": "code",
   "execution_count": 5,
   "metadata": {},
   "outputs": [],
   "source": [
    "data_train = FuturePredictionDataset(\n",
    "            data_root=data_root, is_train=True, version=version, batch_size=batch_size, filter_invisible_vehicles=filter_invisible_vehicles, common=common\n",
    "        )"
   ]
  },
  {
   "cell_type": "markdown",
   "metadata": {},
   "source": [
    "Create DataLoader"
   ]
  },
  {
   "cell_type": "code",
   "execution_count": 6,
   "metadata": {},
   "outputs": [],
   "source": [
    "data_loader = DataLoader(\n",
    "            dataset=data_train,\n",
    "            batch_size=batch_size,\n",
    "            num_workers=num_workers,\n",
    "            pin_memory=pin_memory,\n",
    "            shuffle=True, drop_last= True\n",
    "        )"
   ]
  },
  {
   "cell_type": "markdown",
   "metadata": {},
   "source": [
    "Get first batch"
   ]
  },
  {
   "cell_type": "code",
   "execution_count": 7,
   "metadata": {},
   "outputs": [],
   "source": [
    "sample = next(iter(data_loader))"
   ]
  },
  {
   "cell_type": "code",
   "execution_count": 8,
   "metadata": {},
   "outputs": [
    {
     "name": "stdout",
     "output_type": "stream",
     "text": [
      "dict_keys(['image', 'intrinsics', 'extrinsics', 'segmentation', 'instance', 'centerness', 'offset', 'flow', 'future_egomotion', 'sample_token', 'z_position', 'attribute'])\n"
     ]
    }
   ],
   "source": [
    "print(sample.keys())"
   ]
  },
  {
   "cell_type": "markdown",
   "metadata": {},
   "source": [
    "_input_: We see the the model inputs, which is a sequence of croppped images, along with their intrinsics, extrinsics, and the translation of ego motion from one frame to the next.\n",
    "In this case, the input will only be the past 2 frames along with the current frame that will be compared for predictions.\n",
    "\n",
    "_output labels_: Birds Eye View consisting of segmentation. instances, centerness, offset (from center), future flow (we wont be using this) "
   ]
  },
  {
   "cell_type": "code",
   "execution_count": 9,
   "metadata": {},
   "outputs": [
    {
     "name": "stdout",
     "output_type": "stream",
     "text": [
      "image torch.Size([1, 3, 6, 3, 224, 480])\n",
      "intrinsics torch.Size([1, 3, 6, 3, 3])\n",
      "extrinsics torch.Size([1, 3, 6, 4, 4])\n",
      "segmentation torch.Size([1, 3, 1, 200, 200])\n",
      "instance torch.Size([1, 3, 200, 200])\n",
      "centerness torch.Size([1, 3, 1, 200, 200])\n",
      "offset torch.Size([1, 3, 2, 200, 200])\n",
      "flow torch.Size([1, 3, 2, 200, 200])\n",
      "future_egomotion torch.Size([1, 3, 6])\n",
      "z_position torch.Size([1, 3, 1, 200, 200])\n",
      "attribute torch.Size([1, 3, 1, 200, 200])\n"
     ]
    }
   ],
   "source": [
    "import torch\n",
    "for key in sample.keys():\n",
    "    if isinstance(sample[key], torch.Tensor):\n",
    "        print(key, sample[key].shape)"
   ]
  },
  {
   "cell_type": "code",
   "execution_count": 10,
   "metadata": {},
   "outputs": [],
   "source": [
    "from src.utils.visualisation import plot_instance_map, make_contour, heatmap_image, flow_to_image"
   ]
  },
  {
   "cell_type": "code",
   "execution_count": 11,
   "metadata": {},
   "outputs": [],
   "source": [
    "output_label_list = ['segmentation', 'instance', 'offset', 'centerness']\n",
    "\n",
    "output_labels = {label: sample[label] for label in output_label_list}"
   ]
  },
  {
   "cell_type": "code",
   "execution_count": 12,
   "metadata": {},
   "outputs": [],
   "source": [
    "import numpy as np\n",
    "def visualise_labels(labels, sequence_length):\n",
    "    semantic_colours = np.array([[255, 255, 255], [0, 0, 0]], dtype=np.uint8)\n",
    "\n",
    "    b = 0\n",
    "    video = []\n",
    "    for t in range(sequence_length):\n",
    "        out_t = []\n",
    "        # Ground truth\n",
    "        unique_ids = torch.unique(labels['instance'][b, t]).cpu().numpy()[1:]\n",
    "        instance_map = dict(zip(unique_ids, unique_ids))\n",
    "        instance_plot = plot_instance_map(labels['instance'][b, t].cpu(), instance_map)[::-1, ::-1]\n",
    "        instance_plot = make_contour(instance_plot)\n",
    "\n",
    "        semantic_seg = labels['segmentation'].squeeze(2).cpu().numpy()\n",
    "        semantic_plot = semantic_colours[semantic_seg[b, t][::-1, ::-1]]\n",
    "        semantic_plot = make_contour(semantic_plot)\n",
    "\n",
    "        future_flow_plot = np.zeros_like(semantic_plot)\n",
    "\n",
    "        center_plot = heatmap_image(labels['centerness'][b, t, 0].cpu().numpy())[::-1, ::-1]\n",
    "        center_plot = make_contour(center_plot)\n",
    "\n",
    "        offset_plot = labels['offset'][b, t].cpu().numpy()\n",
    "        offset_plot[:, semantic_seg[b, t] != 1] = 0\n",
    "        offset_plot = flow_to_image(offset_plot)[::-1, ::-1]\n",
    "        offset_plot = make_contour(offset_plot)\n",
    "\n",
    "        out_t.append(np.concatenate([instance_plot, future_flow_plot,\n",
    "                                     semantic_plot, center_plot, offset_plot], axis=0))\n",
    "\n",
    "        video.append(out_t)\n",
    "\n",
    "    # Shape (B, T, C, H, W)\n",
    "    video = np.stack(video)[None]\n",
    "\n",
    "    \n",
    "    return video"
   ]
  },
  {
   "cell_type": "code",
   "execution_count": 13,
   "metadata": {},
   "outputs": [],
   "source": [
    "sequence_length = output_labels['instance'].shape[1]\n",
    "video = visualise_labels(output_labels, sequence_length)"
   ]
  },
  {
   "cell_type": "code",
   "execution_count": 15,
   "metadata": {},
   "outputs": [
    {
     "data": {
      "image/png": "[encoded data removed]",
      "text/plain": [
       "<Figure size 1000x1000 with 1 Axes>"
      ]
     },
     "metadata": {},
     "output_type": "display_data"
    },
    {
     "data": {
      "image/png": "[encoded data removed]",
      "text/plain": [
       "<Figure size 1000x1000 with 1 Axes>"
      ]
     },
     "metadata": {},
     "output_type": "display_data"
    },
    {
     "data": {
      "image/png": "[encoded data removed]",
      "text/plain": [
       "<Figure size 1000x1000 with 1 Axes>"
      ]
     },
     "metadata": {},
     "output_type": "display_data"
    }
   ],
   "source": [
    "import matplotlib.pyplot as plt\n",
    "for frame in video[0]:\n",
    "    plt.figure(figsize=(10, 10))\n",
    "    plt.imshow(frame[0])\n",
    "    plt.axis('off')\n",
    "    plt.show()"
   ]
  },
  {
   "cell_type": "code",
   "execution_count": null,
   "metadata": {},
   "outputs": [],
   "source": []
  }
 ],
 "metadata": {
  "kernelspec": {
   "display_name": "pl-hydra",
   "language": "python",
   "name": "python3"
  },
  "language_info": {
   "codemirror_mode": {
    "name": "ipython",
    "version": 3
   },
   "file_extension": ".py",
   "mimetype": "text/x-python",
   "name": "python",
   "nbconvert_exporter": "python",
   "pygments_lexer": "ipython3",
   "version": "3.9.19"
  }
 },
 "nbformat": 4,
 "nbformat_minor": 2
}
